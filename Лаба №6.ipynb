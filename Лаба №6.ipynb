{
 "cells": [
  {
   "cell_type": "code",
   "execution_count": 1,
   "id": "2219876d-30bb-426a-beca-31facbc0dc18",
   "metadata": {},
   "outputs": [
    {
     "name": "stdout",
     "output_type": "stream",
     "text": [
      "Requirement already satisfied: Flask in c:\\users\\user\\anaconda3\\lib\\site-packages (3.0.3)\n",
      "Requirement already satisfied: Werkzeug>=3.0.0 in c:\\users\\user\\anaconda3\\lib\\site-packages (from Flask) (3.0.3)\n",
      "Requirement already satisfied: Jinja2>=3.1.2 in c:\\users\\user\\anaconda3\\lib\\site-packages (from Flask) (3.1.4)\n",
      "Requirement already satisfied: itsdangerous>=2.1.2 in c:\\users\\user\\anaconda3\\lib\\site-packages (from Flask) (2.2.0)\n",
      "Requirement already satisfied: click>=8.1.3 in c:\\users\\user\\anaconda3\\lib\\site-packages (from Flask) (8.1.7)\n",
      "Requirement already satisfied: blinker>=1.6.2 in c:\\users\\user\\anaconda3\\lib\\site-packages (from Flask) (1.6.2)\n",
      "Requirement already satisfied: colorama in c:\\users\\user\\anaconda3\\lib\\site-packages (from click>=8.1.3->Flask) (0.4.6)\n",
      "Requirement already satisfied: MarkupSafe>=2.0 in c:\\users\\user\\anaconda3\\lib\\site-packages (from Jinja2>=3.1.2->Flask) (2.1.3)\n",
      "Note: you may need to restart the kernel to use updated packages.\n"
     ]
    }
   ],
   "source": [
    "pip install Flask"
   ]
  },
  {
   "cell_type": "code",
   "execution_count": 3,
   "id": "d4cc023f-8185-4600-bfb6-2a0a9987ec27",
   "metadata": {},
   "outputs": [
    {
     "name": "stdout",
     "output_type": "stream",
     "text": [
      "Collecting pyngrok\n",
      "  Downloading pyngrok-7.2.1-py3-none-any.whl.metadata (8.3 kB)\n",
      "Requirement already satisfied: PyYAML>=5.1 in c:\\users\\user\\anaconda3\\lib\\site-packages (from pyngrok) (6.0.1)\n",
      "Downloading pyngrok-7.2.1-py3-none-any.whl (22 kB)\n",
      "Installing collected packages: pyngrok\n",
      "Successfully installed pyngrok-7.2.1\n"
     ]
    }
   ],
   "source": [
    "!pip install pyngrok"
   ]
  },
  {
   "cell_type": "code",
   "execution_count": 5,
   "id": "40085ee3-eb37-4bc7-be6e-c42761fdb930",
   "metadata": {},
   "outputs": [],
   "source": [
    "import sqlite3"
   ]
  },
  {
   "cell_type": "code",
   "execution_count": 7,
   "id": "59dc13a6-3ed4-464b-9c37-1ae21bf85125",
   "metadata": {},
   "outputs": [],
   "source": [
    "from flask import Flask, render_template_string"
   ]
  },
  {
   "cell_type": "code",
   "execution_count": null,
   "id": "06fe01a2-c8ae-4003-8904-2f50306e44d0",
   "metadata": {},
   "outputs": [
    {
     "name": "stdout",
     "output_type": "stream",
     "text": [
      " * Serving Flask app '__main__'\n",
      " * Debug mode: off\n"
     ]
    },
    {
     "name": "stderr",
     "output_type": "stream",
     "text": [
      "WARNING: This is a development server. Do not use it in a production deployment. Use a production WSGI server instead.\n",
      " * Running on http://127.0.0.1:5000\n",
      "Press CTRL+C to quit\n",
      "127.0.0.1 - - [05/Dec/2024 18:15:58] \"GET / HTTP/1.1\" 200 -\n",
      "127.0.0.1 - - [05/Dec/2024 18:15:58] \"GET /favicon.ico HTTP/1.1\" 404 -\n"
     ]
    }
   ],
   "source": [
    "app = Flask(__name__)\n",
    "\n",
    "def create_database():\n",
    "    connection = sqlite3.connect('presents.db')\n",
    "    cursor = connection.cursor()\n",
    "    cursor.execute('''\n",
    "        CREATE TABLE IF NOT EXISTS gifts (\n",
    "            id INTEGER PRIMARY KEY AUTOINCREMENT,\n",
    "            full_name TEXT NOT NULL,\n",
    "            gift_name TEXT NOT NULL,\n",
    "            price REAL NOT NULL,\n",
    "            status TEXT NOT NULL\n",
    "        )\n",
    "    ''')\n",
    "\n",
    "    gifts = [\n",
    "        ('Александр Иванов', 'Ватрушка', 2000, 'куплен'),\n",
    "        ('Дмитрий Петров', 'Перчатки', 3000, 'некуплен'),\n",
    "        ('Юрий Сидоров', 'Настольная игра', 1500, 'куплен'),\n",
    "        ('Анна Антонова', 'Книга', 500, 'некуплен'),\n",
    "        ('Ксения Карамзина', 'Спиннер', 800, 'куплен'),\n",
    "        ('Дмитрий Бородаев', 'Мяч', 2500, 'некуплен'),\n",
    "        ('Ольга Малафеева', 'Часы', 4000, 'куплен'),\n",
    "        ('Сергей Сергеев', 'Сертификат Спортмастер', 2000, 'некуплен'),\n",
    "        ('Елена Викторова', 'Шарф', 1500, 'куплен'),\n",
    "        ('Алексей Карамышев', 'Хоккейный шлем', 5000, 'некуплен'),\n",
    "    ]\n",
    "\n",
    "    cursor.executemany('INSERT INTO gifts (full_name, gift_name, price, status) VALUES (?, ?, ?, ?)', gifts)\n",
    "    connection.commit()\n",
    "    connection.close()\n",
    "\n",
    "create_database()\n",
    "\n",
    "def get_gifts():\n",
    "    connection = sqlite3.connect('presents.db')\n",
    "    cursor = connection.cursor()\n",
    "    cursor.execute('SELECT * FROM gifts')\n",
    "    gifts = cursor.fetchall()\n",
    "    connection.close()\n",
    "    return gifts\n",
    "\n",
    "@app.route('/')\n",
    "def index():\n",
    "    gifts = get_gifts()\n",
    "    html = '''\n",
    "    <!doctype html>\n",
    "    <html lang=\"ru\">\n",
    "    <head>\n",
    "        <meta charset=\"utf-8\">\n",
    "        <title>Подарки</title>\n",
    "    </head>\n",
    "    <body>\n",
    "        <h1>Список подарков</h1>\n",
    "        <table border=\"1\">\n",
    "            <tr>\n",
    "                <th>ФИО</th>\n",
    "                <th>Подарок</th>\n",
    "                <th>Стоимость</th>\n",
    "                <th>Статус</th>\n",
    "            </tr>\n",
    "            {% for gift in gifts %}\n",
    "            <tr>\n",
    "                <td>{{ gift[1] }}</td>\n",
    "                <td>{{ gift[2] }}</td>\n",
    "                <td>{{ gift[3] }}</td>\n",
    "                <td>{{ gift[4] }}</td>\n",
    "            </tr>\n",
    "            {% endfor %}\n",
    "        </table>\n",
    "    </body>\n",
    "    </html>\n",
    "    '''\n",
    "    return render_template_string(html, gifts=gifts)\n",
    "\n",
    "\n",
    "if __name__ == '__main__':\n",
    "    app.run(port=5000)"
   ]
  },
  {
   "cell_type": "code",
   "execution_count": null,
   "id": "72bd767d-e2d5-4aea-a0a4-c52d78d7d520",
   "metadata": {},
   "outputs": [],
   "source": []
  }
 ],
 "metadata": {
  "kernelspec": {
   "display_name": "Python 3 (ipykernel)",
   "language": "python",
   "name": "python3"
  },
  "language_info": {
   "codemirror_mode": {
    "name": "ipython",
    "version": 3
   },
   "file_extension": ".py",
   "mimetype": "text/x-python",
   "name": "python",
   "nbconvert_exporter": "python",
   "pygments_lexer": "ipython3",
   "version": "3.12.4"
  }
 },
 "nbformat": 4,
 "nbformat_minor": 5
}
